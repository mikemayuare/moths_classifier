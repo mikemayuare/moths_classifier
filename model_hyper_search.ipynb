{
 "cells": [
  {
   "cell_type": "code",
   "execution_count": 1,
   "id": "1c97ffb8-1a1a-46b3-88cf-8df4fd472254",
   "metadata": {
    "tags": []
   },
   "outputs": [
    {
     "name": "stderr",
     "output_type": "stream",
     "text": [
      "2023-04-06 23:37:25.295530: I tensorflow/core/platform/cpu_feature_guard.cc:182] This TensorFlow binary is optimized to use available CPU instructions in performance-critical operations.\n",
      "To enable the following instructions: AVX2 FMA, in other operations, rebuild TensorFlow with the appropriate compiler flags.\n",
      "2023-04-06 23:37:25.814341: W tensorflow/compiler/tf2tensorrt/utils/py_utils.cc:38] TF-TRT Warning: Could not find TensorRT\n"
     ]
    }
   ],
   "source": [
    "from tensorflow import keras\n",
    "from tensorflow.keras import layers, initializers\n",
    "from tensorflow.keras.models import load_model\n",
    "from tensorflow.keras.utils import image_dataset_from_directory\n",
    "\n",
    "import plotly.express as px\n",
    "from plotly.subplots import make_subplots\n",
    "import pandas as pd\n",
    "import pathlib\n",
    "\n",
    "import keras_tuner as kt"
   ]
  },
  {
   "cell_type": "code",
   "execution_count": 2,
   "id": "7303d1d6-339c-47d1-b098-12ef95fd1b1e",
   "metadata": {
    "tags": []
   },
   "outputs": [],
   "source": [
    "def model_builder(hp):\n",
    "    blocks = hp.Int('blocks', min_value=3, max_value=4, step=1)\n",
    "    data_augmentation = keras.Sequential([\n",
    "        layers.RandomRotation(hp.Float('rotation', min_value=0.05, max_value=0.2, step=0.05)),\n",
    "        layers.RandomFlip(),\n",
    "        layers.RandomContrast(hp.Float('contrast', min_value=0.05, max_value=0.2, step=0.05)),\n",
    "        layers.RandomBrightness(hp.Float('brightness', min_value=0.05, max_value=0.2, step=0.05)),\n",
    "        layers.RandomZoom(hp.Float('zoom', min_value=0, max_value=0.2, step=0.05)),\n",
    "    ])\n",
    "\n",
    "    inputs = keras.Input(shape=(224, 224, 3))\n",
    "    x = data_augmentation(inputs)\n",
    "    x = layers.Rescaling(1./255)(x)\n",
    "    for i in range(blocks + 1, blocks + 5):\n",
    "        x = layers.Conv2D(filters=2**i, kernel_size=3,\n",
    "                          kernel_initializer=initializers.GlorotNormal(seed=123), \n",
    "                          activation=\"relu\")(x)\n",
    "        x = layers.Conv2D(filters=2**i, kernel_size=3, use_bias=False,\n",
    "                          kernel_initializer=initializers.GlorotNormal(seed=123))(x)\n",
    "        x = layers.BatchNormalization()(x)\n",
    "        x = layers.Activation(\"relu\")(x)\n",
    "        x = layers.MaxPooling2D(pool_size=2, strides=2)(x)\n",
    "        x = layers.Dropout(hp.Float('dropout', min_value=0, max_value=0.5, step=0.1))(x)\n",
    "    x = layers.Conv2D(filters=256, kernel_size=3, use_bias=False)(x)\n",
    "    x = layers.BatchNormalization()(x)\n",
    "    x = layers.Activation(\"relu\")(x)\n",
    "    x = layers.Flatten()(x)\n",
    "    x = layers.Dropout(hp.Float('dropout', min_value=0, max_value=0.5, step=0.1))(x)\n",
    "    outputs = layers.Dense(30, activation=\"softmax\")(x)\n",
    "    model = keras.Model(inputs=inputs, outputs=outputs)\n",
    "\n",
    "    learning_rate = hp.Choice('learning_rate', values=[0.0001, 0.001, 0.01])\n",
    "    model.compile(loss=\"sparse_categorical_crossentropy\",\n",
    "              optimizer=keras.optimizers.Adam(learning_rate=learning_rate),\n",
    "              metrics=[\"accuracy\"])\n",
    "    return model\n"
   ]
  },
  {
   "cell_type": "code",
   "execution_count": 3,
   "id": "0e8a0800-48c6-4538-acf9-5d26f2fc69fa",
   "metadata": {
    "tags": []
   },
   "outputs": [
    {
     "name": "stderr",
     "output_type": "stream",
     "text": [
      "2023-04-06 23:37:55.860888: I tensorflow/compiler/xla/stream_executor/cuda/cuda_gpu_executor.cc:996] successful NUMA node read from SysFS had negative value (-1), but there must be at least one NUMA node, so returning NUMA node zero. See more at https://github.com/torvalds/linux/blob/v6.0/Documentation/ABI/testing/sysfs-bus-pci#L344-L355\n",
      "2023-04-06 23:37:55.878207: I tensorflow/compiler/xla/stream_executor/cuda/cuda_gpu_executor.cc:996] successful NUMA node read from SysFS had negative value (-1), but there must be at least one NUMA node, so returning NUMA node zero. See more at https://github.com/torvalds/linux/blob/v6.0/Documentation/ABI/testing/sysfs-bus-pci#L344-L355\n",
      "2023-04-06 23:37:55.878372: I tensorflow/compiler/xla/stream_executor/cuda/cuda_gpu_executor.cc:996] successful NUMA node read from SysFS had negative value (-1), but there must be at least one NUMA node, so returning NUMA node zero. See more at https://github.com/torvalds/linux/blob/v6.0/Documentation/ABI/testing/sysfs-bus-pci#L344-L355\n",
      "2023-04-06 23:37:55.879253: I tensorflow/compiler/xla/stream_executor/cuda/cuda_gpu_executor.cc:996] successful NUMA node read from SysFS had negative value (-1), but there must be at least one NUMA node, so returning NUMA node zero. See more at https://github.com/torvalds/linux/blob/v6.0/Documentation/ABI/testing/sysfs-bus-pci#L344-L355\n",
      "2023-04-06 23:37:55.879384: I tensorflow/compiler/xla/stream_executor/cuda/cuda_gpu_executor.cc:996] successful NUMA node read from SysFS had negative value (-1), but there must be at least one NUMA node, so returning NUMA node zero. See more at https://github.com/torvalds/linux/blob/v6.0/Documentation/ABI/testing/sysfs-bus-pci#L344-L355\n",
      "2023-04-06 23:37:55.879495: I tensorflow/compiler/xla/stream_executor/cuda/cuda_gpu_executor.cc:996] successful NUMA node read from SysFS had negative value (-1), but there must be at least one NUMA node, so returning NUMA node zero. See more at https://github.com/torvalds/linux/blob/v6.0/Documentation/ABI/testing/sysfs-bus-pci#L344-L355\n",
      "2023-04-06 23:37:56.300964: I tensorflow/compiler/xla/stream_executor/cuda/cuda_gpu_executor.cc:996] successful NUMA node read from SysFS had negative value (-1), but there must be at least one NUMA node, so returning NUMA node zero. See more at https://github.com/torvalds/linux/blob/v6.0/Documentation/ABI/testing/sysfs-bus-pci#L344-L355\n",
      "2023-04-06 23:37:56.301114: I tensorflow/compiler/xla/stream_executor/cuda/cuda_gpu_executor.cc:996] successful NUMA node read from SysFS had negative value (-1), but there must be at least one NUMA node, so returning NUMA node zero. See more at https://github.com/torvalds/linux/blob/v6.0/Documentation/ABI/testing/sysfs-bus-pci#L344-L355\n",
      "2023-04-06 23:37:56.301218: I tensorflow/compiler/xla/stream_executor/cuda/cuda_gpu_executor.cc:996] successful NUMA node read from SysFS had negative value (-1), but there must be at least one NUMA node, so returning NUMA node zero. See more at https://github.com/torvalds/linux/blob/v6.0/Documentation/ABI/testing/sysfs-bus-pci#L344-L355\n",
      "2023-04-06 23:37:56.301298: I tensorflow/core/common_runtime/gpu/gpu_device.cc:1635] Created device /job:localhost/replica:0/task:0/device:GPU:0 with 9681 MB memory:  -> device: 0, name: NVIDIA GeForce RTX 3060, pci bus id: 0000:2b:00.0, compute capability: 8.6\n"
     ]
    }
   ],
   "source": [
    "tuner = kt.BayesianOptimization(\n",
    "            model_builder,\n",
    "            objective='val_loss',\n",
    "            max_trials=15,\n",
    "            overwrite=True)"
   ]
  },
  {
   "cell_type": "code",
   "execution_count": 4,
   "id": "700f43dd-c88c-4bb9-b859-b02f17ead381",
   "metadata": {
    "tags": []
   },
   "outputs": [
    {
     "name": "stdout",
     "output_type": "stream",
     "text": [
      "Found 3558 files belonging to 30 classes.\n",
      "Found 445 files belonging to 30 classes.\n",
      "Found 408 files belonging to 30 classes.\n"
     ]
    }
   ],
   "source": [
    "dataset_path = pathlib.Path(\"moths\")\n",
    "input_shape = (224,224,3)\n",
    "batch_size=64\n",
    "\n",
    "train_dataset = image_dataset_from_directory(\n",
    "    dataset_path / \"train\",\n",
    "    image_size=input_shape[:2],\n",
    "    batch_size=batch_size)\n",
    "validation_dataset = image_dataset_from_directory(\n",
    "    dataset_path / \"valid\",\n",
    "    image_size=input_shape[:2],\n",
    "    batch_size=batch_size)\n",
    "test_dataset = image_dataset_from_directory(\n",
    "    dataset_path / \"test\",\n",
    "    image_size=input_shape[:2],\n",
    "    batch_size=batch_size)"
   ]
  },
  {
   "cell_type": "code",
   "execution_count": 5,
   "id": "3efd84a7-9ff5-492e-914a-40fe2738176f",
   "metadata": {
    "tags": []
   },
   "outputs": [
    {
     "name": "stdout",
     "output_type": "stream",
     "text": [
      "Trial 15 Complete [00h 02m 19s]\n",
      "val_loss: 0.7281265258789062\n",
      "\n",
      "Best val_loss So Far: 0.7281265258789062\n",
      "Total elapsed time: 00h 42m 52s\n",
      "INFO:tensorflow:Oracle triggered exit\n"
     ]
    }
   ],
   "source": [
    "tuner.search(x=train_dataset, epochs=20, validation_data=validation_dataset)\n",
    "\n",
    "best_model = tuner.get_best_models(num_models=1)[0]\n",
    "best_hyperparameters = tuner.get_best_hyperparameters(num_trials=1)[0]"
   ]
  },
  {
   "cell_type": "code",
   "execution_count": 9,
   "id": "b1deb296-dbd9-4059-92e7-246dc570d006",
   "metadata": {
    "tags": []
   },
   "outputs": [
    {
     "name": "stdout",
     "output_type": "stream",
     "text": [
      "Results summary\n",
      "Results in ./untitled_project\n",
      "Showing 10 best trials\n",
      "Objective(name=\"val_loss\", direction=\"min\")\n",
      "\n",
      "Trial 14 summary\n",
      "Hyperparameters:\n",
      "blocks: 3\n",
      "rotation: 0.1\n",
      "contrast: 0.15000000000000002\n",
      "brightness: 0.15000000000000002\n",
      "zoom: 0.2\n",
      "dropout: 0.2\n",
      "learning_rate: 0.001\n",
      "Score: 0.7281265258789062\n",
      "\n",
      "Trial 10 summary\n",
      "Hyperparameters:\n",
      "blocks: 3\n",
      "rotation: 0.15000000000000002\n",
      "contrast: 0.2\n",
      "brightness: 0.1\n",
      "zoom: 0.1\n",
      "dropout: 0.2\n",
      "learning_rate: 0.001\n",
      "Score: 0.8204528093338013\n",
      "\n",
      "Trial 07 summary\n",
      "Hyperparameters:\n",
      "blocks: 3\n",
      "rotation: 0.1\n",
      "contrast: 0.2\n",
      "brightness: 0.15000000000000002\n",
      "zoom: 0.2\n",
      "dropout: 0.1\n",
      "learning_rate: 0.001\n",
      "Score: 0.8333144187927246\n",
      "\n",
      "Trial 13 summary\n",
      "Hyperparameters:\n",
      "blocks: 4\n",
      "rotation: 0.05\n",
      "contrast: 0.2\n",
      "brightness: 0.2\n",
      "zoom: 0.05\n",
      "dropout: 0.0\n",
      "learning_rate: 0.0001\n",
      "Score: 0.8442155122756958\n",
      "\n",
      "Trial 02 summary\n",
      "Hyperparameters:\n",
      "blocks: 4\n",
      "rotation: 0.05\n",
      "contrast: 0.15000000000000002\n",
      "brightness: 0.1\n",
      "zoom: 0.15000000000000002\n",
      "dropout: 0.2\n",
      "learning_rate: 0.001\n",
      "Score: 0.9749882817268372\n",
      "\n",
      "Trial 08 summary\n",
      "Hyperparameters:\n",
      "blocks: 3\n",
      "rotation: 0.1\n",
      "contrast: 0.2\n",
      "brightness: 0.1\n",
      "zoom: 0.0\n",
      "dropout: 0.0\n",
      "learning_rate: 0.001\n",
      "Score: 1.03951895236969\n",
      "\n",
      "Trial 03 summary\n",
      "Hyperparameters:\n",
      "blocks: 3\n",
      "rotation: 0.15000000000000002\n",
      "contrast: 0.05\n",
      "brightness: 0.15000000000000002\n",
      "zoom: 0.15000000000000002\n",
      "dropout: 0.1\n",
      "learning_rate: 0.0001\n",
      "Score: 1.1061612367630005\n",
      "\n",
      "Trial 06 summary\n",
      "Hyperparameters:\n",
      "blocks: 4\n",
      "rotation: 0.05\n",
      "contrast: 0.2\n",
      "brightness: 0.15000000000000002\n",
      "zoom: 0.0\n",
      "dropout: 0.2\n",
      "learning_rate: 0.0001\n",
      "Score: 1.4825198650360107\n",
      "\n",
      "Trial 04 summary\n",
      "Hyperparameters:\n",
      "blocks: 3\n",
      "rotation: 0.05\n",
      "contrast: 0.05\n",
      "brightness: 0.1\n",
      "zoom: 0.0\n",
      "dropout: 0.4\n",
      "learning_rate: 0.01\n",
      "Score: 1.768874168395996\n",
      "\n",
      "Trial 12 summary\n",
      "Hyperparameters:\n",
      "blocks: 3\n",
      "rotation: 0.1\n",
      "contrast: 0.2\n",
      "brightness: 0.15000000000000002\n",
      "zoom: 0.05\n",
      "dropout: 0.0\n",
      "learning_rate: 0.01\n",
      "Score: 2.0941853523254395\n"
     ]
    }
   ],
   "source": [
    "tuner.results_summary()"
   ]
  },
  {
   "cell_type": "code",
   "execution_count": 6,
   "id": "2328667e-bf07-4b9f-b829-604cd0c5ff2e",
   "metadata": {
    "tags": []
   },
   "outputs": [
    {
     "name": "stdout",
     "output_type": "stream",
     "text": [
      "Model: \"model\"\n",
      "_________________________________________________________________\n",
      " Layer (type)                Output Shape              Param #   \n",
      "=================================================================\n",
      " input_1 (InputLayer)        [(None, 224, 224, 3)]     0         \n",
      "                                                                 \n",
      " sequential (Sequential)     (None, 224, 224, 3)       0         \n",
      "                                                                 \n",
      " rescaling (Rescaling)       (None, 224, 224, 3)       0         \n",
      "                                                                 \n",
      " conv2d (Conv2D)             (None, 222, 222, 16)      448       \n",
      "                                                                 \n",
      " conv2d_1 (Conv2D)           (None, 220, 220, 16)      2304      \n",
      "                                                                 \n",
      " batch_normalization (BatchN  (None, 220, 220, 16)     64        \n",
      " ormalization)                                                   \n",
      "                                                                 \n",
      " activation (Activation)     (None, 220, 220, 16)      0         \n",
      "                                                                 \n",
      " max_pooling2d (MaxPooling2D  (None, 110, 110, 16)     0         \n",
      " )                                                               \n",
      "                                                                 \n",
      " dropout (Dropout)           (None, 110, 110, 16)      0         \n",
      "                                                                 \n",
      " conv2d_2 (Conv2D)           (None, 108, 108, 32)      4640      \n",
      "                                                                 \n",
      " conv2d_3 (Conv2D)           (None, 106, 106, 32)      9216      \n",
      "                                                                 \n",
      " batch_normalization_1 (Batc  (None, 106, 106, 32)     128       \n",
      " hNormalization)                                                 \n",
      "                                                                 \n",
      " activation_1 (Activation)   (None, 106, 106, 32)      0         \n",
      "                                                                 \n",
      " max_pooling2d_1 (MaxPooling  (None, 53, 53, 32)       0         \n",
      " 2D)                                                             \n",
      "                                                                 \n",
      " dropout_1 (Dropout)         (None, 53, 53, 32)        0         \n",
      "                                                                 \n",
      " conv2d_4 (Conv2D)           (None, 51, 51, 64)        18496     \n",
      "                                                                 \n",
      " conv2d_5 (Conv2D)           (None, 49, 49, 64)        36864     \n",
      "                                                                 \n",
      " batch_normalization_2 (Batc  (None, 49, 49, 64)       256       \n",
      " hNormalization)                                                 \n",
      "                                                                 \n",
      " activation_2 (Activation)   (None, 49, 49, 64)        0         \n",
      "                                                                 \n",
      " max_pooling2d_2 (MaxPooling  (None, 24, 24, 64)       0         \n",
      " 2D)                                                             \n",
      "                                                                 \n",
      " dropout_2 (Dropout)         (None, 24, 24, 64)        0         \n",
      "                                                                 \n",
      " conv2d_6 (Conv2D)           (None, 22, 22, 128)       73856     \n",
      "                                                                 \n",
      " conv2d_7 (Conv2D)           (None, 20, 20, 128)       147456    \n",
      "                                                                 \n",
      " batch_normalization_3 (Batc  (None, 20, 20, 128)      512       \n",
      " hNormalization)                                                 \n",
      "                                                                 \n",
      " activation_3 (Activation)   (None, 20, 20, 128)       0         \n",
      "                                                                 \n",
      " max_pooling2d_3 (MaxPooling  (None, 10, 10, 128)      0         \n",
      " 2D)                                                             \n",
      "                                                                 \n",
      " dropout_3 (Dropout)         (None, 10, 10, 128)       0         \n",
      "                                                                 \n",
      " conv2d_8 (Conv2D)           (None, 8, 8, 256)         294912    \n",
      "                                                                 \n",
      " batch_normalization_4 (Batc  (None, 8, 8, 256)        1024      \n",
      " hNormalization)                                                 \n",
      "                                                                 \n",
      " activation_4 (Activation)   (None, 8, 8, 256)         0         \n",
      "                                                                 \n",
      " flatten (Flatten)           (None, 16384)             0         \n",
      "                                                                 \n",
      " dropout_4 (Dropout)         (None, 16384)             0         \n",
      "                                                                 \n",
      " dense (Dense)               (None, 30)                491550    \n",
      "                                                                 \n",
      "=================================================================\n",
      "Total params: 1,081,726\n",
      "Trainable params: 1,080,734\n",
      "Non-trainable params: 992\n",
      "_________________________________________________________________\n"
     ]
    }
   ],
   "source": [
    "best_model.build(input_shape=(224, 224, 3))\n",
    "best_model.summary()"
   ]
  },
  {
   "cell_type": "code",
   "execution_count": 7,
   "id": "2693321d-ee26-4521-bdff-d2d41aeb08b9",
   "metadata": {
    "tags": []
   },
   "outputs": [],
   "source": [
    "model_best_hps = model_builder(best_hyperparameters)"
   ]
  },
  {
   "cell_type": "code",
   "execution_count": 8,
   "id": "174dfaa6-44d3-4247-9179-12ade31e3b30",
   "metadata": {
    "tags": []
   },
   "outputs": [
    {
     "name": "stdout",
     "output_type": "stream",
     "text": [
      "Epoch 1/200\n"
     ]
    },
    {
     "name": "stderr",
     "output_type": "stream",
     "text": [
      "2023-04-07 06:37:47.745564: E tensorflow/core/grappler/optimizers/meta_optimizer.cc:954] layout failed: INVALID_ARGUMENT: Size of values 0 does not match size of permutation 4 @ fanin shape inmodel_1/dropout_5/dropout/SelectV2-2-TransposeNHWCToNCHW-LayoutOptimizer\n"
     ]
    },
    {
     "name": "stdout",
     "output_type": "stream",
     "text": [
      "56/56 [==============================] - 9s 124ms/step - loss: 3.6138 - accuracy: 0.2052 - val_loss: 4.9600 - val_accuracy: 0.0427\n",
      "Epoch 2/200\n",
      "56/56 [==============================] - 7s 120ms/step - loss: 2.3612 - accuracy: 0.3623 - val_loss: 8.7740 - val_accuracy: 0.0404\n",
      "Epoch 3/200\n",
      "56/56 [==============================] - 7s 120ms/step - loss: 1.8943 - accuracy: 0.4539 - val_loss: 8.1683 - val_accuracy: 0.0607\n",
      "Epoch 4/200\n",
      "56/56 [==============================] - 7s 121ms/step - loss: 1.6007 - accuracy: 0.5188 - val_loss: 7.0415 - val_accuracy: 0.1461\n",
      "Epoch 5/200\n",
      "56/56 [==============================] - 7s 122ms/step - loss: 1.4437 - accuracy: 0.5658 - val_loss: 4.8755 - val_accuracy: 0.1371\n",
      "Epoch 6/200\n",
      "56/56 [==============================] - 7s 122ms/step - loss: 1.3259 - accuracy: 0.5953 - val_loss: 3.4937 - val_accuracy: 0.2607\n",
      "Epoch 7/200\n",
      "56/56 [==============================] - 7s 122ms/step - loss: 1.2216 - accuracy: 0.6313 - val_loss: 1.6532 - val_accuracy: 0.4899\n",
      "Epoch 8/200\n",
      "56/56 [==============================] - 7s 121ms/step - loss: 1.1205 - accuracy: 0.6509 - val_loss: 1.7588 - val_accuracy: 0.5011\n",
      "Epoch 9/200\n",
      "56/56 [==============================] - 7s 121ms/step - loss: 1.0822 - accuracy: 0.6675 - val_loss: 1.1058 - val_accuracy: 0.6742\n",
      "Epoch 10/200\n",
      "56/56 [==============================] - 7s 122ms/step - loss: 1.0238 - accuracy: 0.6855 - val_loss: 1.3345 - val_accuracy: 0.6270\n",
      "Epoch 11/200\n",
      "56/56 [==============================] - 7s 121ms/step - loss: 0.9688 - accuracy: 0.7004 - val_loss: 1.4844 - val_accuracy: 0.5865\n",
      "Epoch 12/200\n",
      "56/56 [==============================] - 7s 121ms/step - loss: 0.9022 - accuracy: 0.7167 - val_loss: 1.5157 - val_accuracy: 0.5978\n",
      "Epoch 13/200\n",
      "56/56 [==============================] - 7s 122ms/step - loss: 0.8539 - accuracy: 0.7274 - val_loss: 1.1387 - val_accuracy: 0.6674\n",
      "Epoch 14/200\n",
      "56/56 [==============================] - 7s 122ms/step - loss: 0.8334 - accuracy: 0.7369 - val_loss: 1.1723 - val_accuracy: 0.6674\n",
      "Epoch 15/200\n",
      "56/56 [==============================] - 7s 123ms/step - loss: 0.7939 - accuracy: 0.7479 - val_loss: 0.7895 - val_accuracy: 0.7618\n",
      "Epoch 16/200\n",
      "56/56 [==============================] - 7s 122ms/step - loss: 0.7886 - accuracy: 0.7544 - val_loss: 1.4151 - val_accuracy: 0.6764\n",
      "Epoch 17/200\n",
      "56/56 [==============================] - 7s 121ms/step - loss: 0.7328 - accuracy: 0.7622 - val_loss: 0.9418 - val_accuracy: 0.7281\n",
      "Epoch 18/200\n",
      "56/56 [==============================] - 7s 122ms/step - loss: 0.7155 - accuracy: 0.7746 - val_loss: 0.7807 - val_accuracy: 0.7775\n",
      "Epoch 19/200\n",
      "56/56 [==============================] - 7s 122ms/step - loss: 0.6492 - accuracy: 0.7948 - val_loss: 0.8362 - val_accuracy: 0.7640\n",
      "Epoch 20/200\n",
      "56/56 [==============================] - 7s 121ms/step - loss: 0.6150 - accuracy: 0.8058 - val_loss: 0.9926 - val_accuracy: 0.7213\n",
      "Epoch 21/200\n",
      "56/56 [==============================] - 7s 121ms/step - loss: 0.6428 - accuracy: 0.7954 - val_loss: 0.8006 - val_accuracy: 0.7708\n",
      "Epoch 22/200\n",
      "56/56 [==============================] - 7s 121ms/step - loss: 0.6228 - accuracy: 0.8061 - val_loss: 1.2257 - val_accuracy: 0.6966\n",
      "Epoch 23/200\n",
      "56/56 [==============================] - 7s 122ms/step - loss: 0.5712 - accuracy: 0.8210 - val_loss: 0.8753 - val_accuracy: 0.7483\n",
      "Epoch 24/200\n",
      "56/56 [==============================] - 7s 122ms/step - loss: 0.5578 - accuracy: 0.8162 - val_loss: 1.3877 - val_accuracy: 0.6584\n",
      "Epoch 25/200\n",
      "56/56 [==============================] - 7s 121ms/step - loss: 0.5537 - accuracy: 0.8238 - val_loss: 0.8849 - val_accuracy: 0.7483\n",
      "Epoch 26/200\n",
      "56/56 [==============================] - 7s 122ms/step - loss: 0.5207 - accuracy: 0.8283 - val_loss: 0.8334 - val_accuracy: 0.7708\n",
      "Epoch 27/200\n",
      "56/56 [==============================] - 7s 123ms/step - loss: 0.5299 - accuracy: 0.8328 - val_loss: 0.7227 - val_accuracy: 0.8247\n",
      "Epoch 28/200\n",
      "56/56 [==============================] - 7s 121ms/step - loss: 0.4846 - accuracy: 0.8435 - val_loss: 0.8948 - val_accuracy: 0.7978\n",
      "Epoch 29/200\n",
      "56/56 [==============================] - 7s 122ms/step - loss: 0.4917 - accuracy: 0.8392 - val_loss: 0.9659 - val_accuracy: 0.7258\n",
      "Epoch 30/200\n",
      "56/56 [==============================] - 7s 121ms/step - loss: 0.4413 - accuracy: 0.8600 - val_loss: 0.7246 - val_accuracy: 0.8270\n",
      "Epoch 31/200\n",
      "56/56 [==============================] - 7s 121ms/step - loss: 0.4780 - accuracy: 0.8454 - val_loss: 0.8857 - val_accuracy: 0.7753\n",
      "Epoch 32/200\n",
      "56/56 [==============================] - 7s 121ms/step - loss: 0.4230 - accuracy: 0.8642 - val_loss: 1.0813 - val_accuracy: 0.7416\n",
      "Epoch 33/200\n",
      "56/56 [==============================] - 7s 121ms/step - loss: 0.4466 - accuracy: 0.8482 - val_loss: 0.7771 - val_accuracy: 0.8112\n",
      "Epoch 34/200\n",
      "56/56 [==============================] - 7s 123ms/step - loss: 0.4216 - accuracy: 0.8620 - val_loss: 0.5654 - val_accuracy: 0.8449\n",
      "Epoch 35/200\n",
      "56/56 [==============================] - 7s 122ms/step - loss: 0.4238 - accuracy: 0.8657 - val_loss: 0.9416 - val_accuracy: 0.7573\n",
      "Epoch 36/200\n",
      "56/56 [==============================] - 7s 121ms/step - loss: 0.3853 - accuracy: 0.8749 - val_loss: 0.6464 - val_accuracy: 0.8247\n",
      "Epoch 37/200\n",
      "56/56 [==============================] - 7s 121ms/step - loss: 0.4004 - accuracy: 0.8699 - val_loss: 0.9111 - val_accuracy: 0.7596\n",
      "Epoch 38/200\n",
      "56/56 [==============================] - 7s 121ms/step - loss: 0.3956 - accuracy: 0.8738 - val_loss: 0.7950 - val_accuracy: 0.7978\n",
      "Epoch 39/200\n",
      "56/56 [==============================] - 7s 121ms/step - loss: 0.3808 - accuracy: 0.8766 - val_loss: 0.6971 - val_accuracy: 0.8247\n",
      "Epoch 40/200\n",
      "56/56 [==============================] - 7s 122ms/step - loss: 0.3274 - accuracy: 0.8926 - val_loss: 1.2022 - val_accuracy: 0.7191\n",
      "Epoch 41/200\n",
      "56/56 [==============================] - 7s 121ms/step - loss: 0.3453 - accuracy: 0.8859 - val_loss: 0.7671 - val_accuracy: 0.8135\n",
      "Epoch 42/200\n",
      "56/56 [==============================] - 7s 122ms/step - loss: 0.3491 - accuracy: 0.8865 - val_loss: 0.6675 - val_accuracy: 0.8247\n",
      "Epoch 43/200\n",
      "56/56 [==============================] - 7s 122ms/step - loss: 0.3319 - accuracy: 0.8926 - val_loss: 0.7520 - val_accuracy: 0.8157\n",
      "Epoch 44/200\n",
      "56/56 [==============================] - 7s 121ms/step - loss: 0.3385 - accuracy: 0.8893 - val_loss: 0.7112 - val_accuracy: 0.8157\n",
      "Epoch 45/200\n",
      "56/56 [==============================] - 7s 122ms/step - loss: 0.3148 - accuracy: 0.8969 - val_loss: 0.7943 - val_accuracy: 0.7888\n",
      "Epoch 46/200\n",
      "56/56 [==============================] - 7s 121ms/step - loss: 0.3178 - accuracy: 0.8983 - val_loss: 0.9351 - val_accuracy: 0.7730\n",
      "Epoch 47/200\n",
      "56/56 [==============================] - 7s 122ms/step - loss: 0.3454 - accuracy: 0.8848 - val_loss: 0.9103 - val_accuracy: 0.7618\n",
      "Epoch 48/200\n",
      "56/56 [==============================] - 7s 122ms/step - loss: 0.2943 - accuracy: 0.9030 - val_loss: 0.7127 - val_accuracy: 0.8382\n",
      "Epoch 49/200\n",
      "56/56 [==============================] - 7s 121ms/step - loss: 0.3074 - accuracy: 0.8918 - val_loss: 0.6615 - val_accuracy: 0.8292\n",
      "Epoch 50/200\n",
      "56/56 [==============================] - 7s 121ms/step - loss: 0.2809 - accuracy: 0.9056 - val_loss: 0.8694 - val_accuracy: 0.7978\n",
      "Epoch 51/200\n",
      "56/56 [==============================] - 7s 121ms/step - loss: 0.3323 - accuracy: 0.8907 - val_loss: 0.7120 - val_accuracy: 0.8315\n",
      "Epoch 52/200\n",
      "56/56 [==============================] - 7s 121ms/step - loss: 0.2929 - accuracy: 0.9042 - val_loss: 0.7858 - val_accuracy: 0.7955\n",
      "Epoch 53/200\n",
      "56/56 [==============================] - 7s 121ms/step - loss: 0.2924 - accuracy: 0.9013 - val_loss: 0.8111 - val_accuracy: 0.8157\n",
      "Epoch 54/200\n",
      "56/56 [==============================] - 7s 122ms/step - loss: 0.2650 - accuracy: 0.9101 - val_loss: 0.5281 - val_accuracy: 0.8719\n",
      "Epoch 55/200\n",
      "56/56 [==============================] - 7s 123ms/step - loss: 0.2644 - accuracy: 0.9132 - val_loss: 1.5610 - val_accuracy: 0.6966\n",
      "Epoch 56/200\n",
      "56/56 [==============================] - 7s 121ms/step - loss: 0.2742 - accuracy: 0.9089 - val_loss: 0.7429 - val_accuracy: 0.8360\n",
      "Epoch 57/200\n",
      "56/56 [==============================] - 7s 122ms/step - loss: 0.2850 - accuracy: 0.9073 - val_loss: 0.8747 - val_accuracy: 0.8090\n",
      "Epoch 58/200\n",
      "56/56 [==============================] - 7s 121ms/step - loss: 0.2562 - accuracy: 0.9137 - val_loss: 0.5942 - val_accuracy: 0.8719\n",
      "Epoch 59/200\n",
      "56/56 [==============================] - 7s 122ms/step - loss: 0.2295 - accuracy: 0.9216 - val_loss: 0.5809 - val_accuracy: 0.8742\n",
      "Epoch 60/200\n",
      "56/56 [==============================] - 7s 121ms/step - loss: 0.2352 - accuracy: 0.9199 - val_loss: 0.7074 - val_accuracy: 0.8449\n",
      "Epoch 61/200\n",
      "56/56 [==============================] - 7s 123ms/step - loss: 0.2423 - accuracy: 0.9140 - val_loss: 0.5100 - val_accuracy: 0.8787\n",
      "Epoch 62/200\n",
      "56/56 [==============================] - 7s 121ms/step - loss: 0.2627 - accuracy: 0.9165 - val_loss: 1.0485 - val_accuracy: 0.7663\n",
      "Epoch 63/200\n",
      "56/56 [==============================] - 7s 122ms/step - loss: 0.2431 - accuracy: 0.9185 - val_loss: 0.6146 - val_accuracy: 0.8449\n",
      "Epoch 64/200\n",
      "56/56 [==============================] - 7s 122ms/step - loss: 0.2322 - accuracy: 0.9236 - val_loss: 0.7402 - val_accuracy: 0.8180\n",
      "Epoch 65/200\n",
      "56/56 [==============================] - 7s 121ms/step - loss: 0.2452 - accuracy: 0.9174 - val_loss: 0.6505 - val_accuracy: 0.8472\n",
      "Epoch 66/200\n",
      "56/56 [==============================] - 7s 122ms/step - loss: 0.2033 - accuracy: 0.9283 - val_loss: 0.6009 - val_accuracy: 0.8764\n",
      "Epoch 67/200\n",
      "56/56 [==============================] - 7s 122ms/step - loss: 0.2496 - accuracy: 0.9224 - val_loss: 0.8449 - val_accuracy: 0.8292\n",
      "Epoch 68/200\n",
      "56/56 [==============================] - 7s 122ms/step - loss: 0.2306 - accuracy: 0.9210 - val_loss: 0.7287 - val_accuracy: 0.8472\n",
      "Epoch 69/200\n",
      "56/56 [==============================] - 7s 122ms/step - loss: 0.2079 - accuracy: 0.9328 - val_loss: 0.8189 - val_accuracy: 0.8180\n",
      "Epoch 70/200\n",
      "56/56 [==============================] - 7s 120ms/step - loss: 0.2155 - accuracy: 0.9325 - val_loss: 0.7928 - val_accuracy: 0.8494\n",
      "Epoch 71/200\n",
      "56/56 [==============================] - 7s 120ms/step - loss: 0.1828 - accuracy: 0.9359 - val_loss: 0.6065 - val_accuracy: 0.8629\n",
      "Epoch 72/200\n",
      "56/56 [==============================] - 7s 120ms/step - loss: 0.2028 - accuracy: 0.9370 - val_loss: 0.6486 - val_accuracy: 0.8539\n",
      "Epoch 73/200\n",
      "56/56 [==============================] - 7s 121ms/step - loss: 0.2085 - accuracy: 0.9297 - val_loss: 1.0229 - val_accuracy: 0.7708\n",
      "Epoch 74/200\n",
      "56/56 [==============================] - 7s 122ms/step - loss: 0.2116 - accuracy: 0.9311 - val_loss: 0.6174 - val_accuracy: 0.8764\n",
      "Epoch 75/200\n",
      "56/56 [==============================] - 7s 122ms/step - loss: 0.1802 - accuracy: 0.9354 - val_loss: 0.9478 - val_accuracy: 0.7888\n",
      "Epoch 76/200\n",
      "56/56 [==============================] - 7s 123ms/step - loss: 0.1816 - accuracy: 0.9393 - val_loss: 0.8464 - val_accuracy: 0.8270\n",
      "Epoch 77/200\n",
      "56/56 [==============================] - 7s 122ms/step - loss: 0.1829 - accuracy: 0.9362 - val_loss: 0.8439 - val_accuracy: 0.8090\n",
      "Epoch 78/200\n",
      "56/56 [==============================] - 7s 120ms/step - loss: 0.2123 - accuracy: 0.9320 - val_loss: 0.7894 - val_accuracy: 0.8382\n",
      "Epoch 79/200\n",
      "56/56 [==============================] - 7s 122ms/step - loss: 0.1728 - accuracy: 0.9373 - val_loss: 0.6116 - val_accuracy: 0.8652\n",
      "Epoch 80/200\n",
      "56/56 [==============================] - 7s 121ms/step - loss: 0.1803 - accuracy: 0.9376 - val_loss: 0.7313 - val_accuracy: 0.8764\n",
      "Epoch 81/200\n",
      "56/56 [==============================] - 7s 121ms/step - loss: 0.1708 - accuracy: 0.9365 - val_loss: 0.7210 - val_accuracy: 0.8337\n",
      "Epoch 82/200\n",
      "56/56 [==============================] - 7s 121ms/step - loss: 0.1646 - accuracy: 0.9438 - val_loss: 0.9563 - val_accuracy: 0.8315\n",
      "Epoch 83/200\n",
      "56/56 [==============================] - 7s 120ms/step - loss: 0.1749 - accuracy: 0.9379 - val_loss: 0.7291 - val_accuracy: 0.8697\n",
      "Epoch 84/200\n",
      "56/56 [==============================] - 7s 121ms/step - loss: 0.1978 - accuracy: 0.9359 - val_loss: 0.8056 - val_accuracy: 0.8539\n",
      "Epoch 85/200\n",
      "56/56 [==============================] - 7s 121ms/step - loss: 0.1866 - accuracy: 0.9373 - val_loss: 0.8510 - val_accuracy: 0.8315\n",
      "Epoch 86/200\n",
      "56/56 [==============================] - 7s 121ms/step - loss: 0.1718 - accuracy: 0.9413 - val_loss: 0.6204 - val_accuracy: 0.8787\n",
      "Epoch 87/200\n",
      "56/56 [==============================] - 7s 122ms/step - loss: 0.1591 - accuracy: 0.9505 - val_loss: 0.6059 - val_accuracy: 0.8787\n",
      "Epoch 88/200\n",
      "56/56 [==============================] - 7s 121ms/step - loss: 0.1719 - accuracy: 0.9446 - val_loss: 0.8508 - val_accuracy: 0.8270\n",
      "Epoch 89/200\n",
      "56/56 [==============================] - 7s 122ms/step - loss: 0.1638 - accuracy: 0.9474 - val_loss: 0.7714 - val_accuracy: 0.8270\n",
      "Epoch 90/200\n",
      "56/56 [==============================] - 7s 122ms/step - loss: 0.1666 - accuracy: 0.9472 - val_loss: 0.9470 - val_accuracy: 0.8315\n",
      "Epoch 91/200\n",
      "56/56 [==============================] - 7s 122ms/step - loss: 0.1499 - accuracy: 0.9466 - val_loss: 0.7792 - val_accuracy: 0.8607\n"
     ]
    }
   ],
   "source": [
    "callbacks = [\n",
    "    keras.callbacks.ModelCheckpoint(\n",
    "        filepath=\"saved_models/model_tuned.keras\",\n",
    "        save_best_only=True,\n",
    "        monitor=\"val_loss\"\n",
    "    ),\n",
    "    keras.callbacks.EarlyStopping(\n",
    "        patience=30,\n",
    "        monitor='val_loss'\n",
    "    )\n",
    "]\n",
    "\n",
    "history = model_best_hps.fit(\n",
    "                train_dataset,\n",
    "                epochs=200,\n",
    "                batch_size=64,\n",
    "                validation_data=validation_dataset,\n",
    "                callbacks=callbacks\n",
    ")"
   ]
  },
  {
   "cell_type": "code",
   "execution_count": 11,
   "id": "e3f66a30-043b-4f54-b599-df73155fe18b",
   "metadata": {
    "tags": []
   },
   "outputs": [
    {
     "data": {
      "application/vnd.plotly.v1+json": {
       "config": {
        "plotlyServerURL": "https://plot.ly"
       },
       "data": [
        {
         "hovertemplate": "variable=loss<br>index=%{x}<br>value=%{y}<extra></extra>",
         "legendgroup": "loss",
         "marker": {
          "color": "#636efa",
          "symbol": "circle"
         },
         "mode": "markers",
         "name": "loss",
         "orientation": "v",
         "showlegend": true,
         "type": "scatter",
         "x": [
          0,
          1,
          2,
          3,
          4,
          5,
          6,
          7,
          8,
          9,
          10,
          11,
          12,
          13,
          14,
          15,
          16,
          17,
          18,
          19,
          20,
          21,
          22,
          23,
          24,
          25,
          26,
          27,
          28,
          29,
          30,
          31,
          32,
          33,
          34,
          35,
          36,
          37,
          38,
          39,
          40,
          41,
          42,
          43,
          44,
          45,
          46,
          47,
          48,
          49,
          50,
          51,
          52,
          53,
          54,
          55,
          56,
          57,
          58,
          59,
          60,
          61,
          62,
          63,
          64,
          65,
          66,
          67,
          68,
          69,
          70,
          71,
          72,
          73,
          74,
          75,
          76,
          77,
          78,
          79,
          80,
          81,
          82,
          83,
          84,
          85,
          86,
          87,
          88,
          89,
          90
         ],
         "xaxis": "x",
         "y": [
          3.613818645477295,
          2.3611536026000977,
          1.8942837715148926,
          1.6006652116775513,
          1.4437363147735596,
          1.3258557319641113,
          1.2215890884399414,
          1.1204736232757568,
          1.0822430849075317,
          1.0237677097320557,
          0.9687564373016357,
          0.9022303819656372,
          0.8538801670074463,
          0.8334038853645325,
          0.79387366771698,
          0.7885651588439941,
          0.7327999472618103,
          0.7154936790466309,
          0.649152398109436,
          0.6149898767471313,
          0.642760694026947,
          0.622815728187561,
          0.571156919002533,
          0.5578148365020752,
          0.5536676645278931,
          0.5206953883171082,
          0.5299286842346191,
          0.4845851957798004,
          0.4916958808898926,
          0.4412631690502167,
          0.47795194387435913,
          0.42297881841659546,
          0.44662413001060486,
          0.4216371774673462,
          0.4237823784351349,
          0.38525155186653137,
          0.40037405490875244,
          0.39555418491363525,
          0.38079819083213806,
          0.3273610472679138,
          0.34530583024024963,
          0.34905365109443665,
          0.3319063186645508,
          0.33850011229515076,
          0.31477728486061096,
          0.31778886914253235,
          0.34538188576698303,
          0.29425984621047974,
          0.3073623776435852,
          0.2809411883354187,
          0.3323041796684265,
          0.2928611636161804,
          0.292399525642395,
          0.26504701375961304,
          0.2644166648387909,
          0.27422580122947693,
          0.2850247621536255,
          0.2561858296394348,
          0.2294844537973404,
          0.23517607152462006,
          0.24233825504779816,
          0.26272547245025635,
          0.24305325746536255,
          0.2321595549583435,
          0.24523037672042847,
          0.2032690793275833,
          0.2496272176504135,
          0.2306293547153473,
          0.20788703858852386,
          0.21548700332641602,
          0.18283827602863312,
          0.2027732878923416,
          0.20854483544826508,
          0.21160340309143066,
          0.18021529912948608,
          0.18159355223178864,
          0.1828661859035492,
          0.2123233675956726,
          0.172821506857872,
          0.18031978607177734,
          0.1708132028579712,
          0.16462372243404388,
          0.17487765848636627,
          0.19783568382263184,
          0.18663029372692108,
          0.1718393713235855,
          0.1591346561908722,
          0.171908900141716,
          0.16375403106212616,
          0.16662146151065826,
          0.14991126954555511
         ],
         "yaxis": "y"
        },
        {
         "hovertemplate": "variable=val_loss<br>index=%{x}<br>value=%{y}<extra></extra>",
         "legendgroup": "val_loss",
         "line": {
          "color": "#636efa",
          "dash": "solid"
         },
         "marker": {
          "symbol": "circle"
         },
         "mode": "lines",
         "name": "val_loss",
         "orientation": "v",
         "showlegend": true,
         "type": "scatter",
         "x": [
          0,
          1,
          2,
          3,
          4,
          5,
          6,
          7,
          8,
          9,
          10,
          11,
          12,
          13,
          14,
          15,
          16,
          17,
          18,
          19,
          20,
          21,
          22,
          23,
          24,
          25,
          26,
          27,
          28,
          29,
          30,
          31,
          32,
          33,
          34,
          35,
          36,
          37,
          38,
          39,
          40,
          41,
          42,
          43,
          44,
          45,
          46,
          47,
          48,
          49,
          50,
          51,
          52,
          53,
          54,
          55,
          56,
          57,
          58,
          59,
          60,
          61,
          62,
          63,
          64,
          65,
          66,
          67,
          68,
          69,
          70,
          71,
          72,
          73,
          74,
          75,
          76,
          77,
          78,
          79,
          80,
          81,
          82,
          83,
          84,
          85,
          86,
          87,
          88,
          89,
          90
         ],
         "xaxis": "x",
         "y": [
          4.960005283355713,
          8.77395248413086,
          8.168281555175781,
          7.041496276855469,
          4.875459671020508,
          3.4936962127685547,
          1.6532148122787476,
          1.7588316202163696,
          1.105757713317871,
          1.334468126296997,
          1.4844295978546143,
          1.5156933069229126,
          1.1387373208999634,
          1.172263741493225,
          0.7894812226295471,
          1.4151197671890259,
          0.9418463110923767,
          0.7806912064552307,
          0.8362389206886292,
          0.9925529360771179,
          0.8006073832511902,
          1.2256982326507568,
          0.8753201365470886,
          1.387662649154663,
          0.884918212890625,
          0.8333709836006165,
          0.7227330803871155,
          0.8947732448577881,
          0.9658880233764648,
          0.7246356010437012,
          0.8856659531593323,
          1.0813230276107788,
          0.7770770192146301,
          0.5653882026672363,
          0.941582977771759,
          0.6463810801506042,
          0.9110817313194275,
          0.7950363755226135,
          0.6971459984779358,
          1.2022268772125244,
          0.7670606374740601,
          0.6674904823303223,
          0.7520092725753784,
          0.7112064957618713,
          0.7942800521850586,
          0.9351063370704651,
          0.9102823734283447,
          0.7127372622489929,
          0.6615341901779175,
          0.8694469928741455,
          0.7119961977005005,
          0.785750150680542,
          0.811140775680542,
          0.5280827283859253,
          1.5609945058822632,
          0.7428579330444336,
          0.8747052550315857,
          0.5941963195800781,
          0.5809284448623657,
          0.7073845267295837,
          0.5099806785583496,
          1.0485429763793945,
          0.6146036386489868,
          0.740163266658783,
          0.6504985690116882,
          0.6009070873260498,
          0.8449253439903259,
          0.7287055253982544,
          0.8189359903335571,
          0.7927595376968384,
          0.6065223217010498,
          0.6485562324523926,
          1.0229300260543823,
          0.6173812747001648,
          0.9478474259376526,
          0.8463582992553711,
          0.8439049124717712,
          0.7894349694252014,
          0.6116098761558533,
          0.7312846779823303,
          0.7210477590560913,
          0.9563161730766296,
          0.7291033864021301,
          0.8055734634399414,
          0.8509978652000427,
          0.620398998260498,
          0.6059052348136902,
          0.8507930636405945,
          0.7714124321937561,
          0.9469868540763855,
          0.7792457938194275
         ],
         "yaxis": "y"
        },
        {
         "hovertemplate": "variable=accuracy<br>index=%{x}<br>value=%{y}<extra></extra>",
         "legendgroup": "accuracy",
         "marker": {
          "color": "#636efa",
          "symbol": "circle"
         },
         "mode": "markers",
         "name": "accuracy",
         "orientation": "v",
         "showlegend": true,
         "type": "scatter",
         "x": [
          0,
          1,
          2,
          3,
          4,
          5,
          6,
          7,
          8,
          9,
          10,
          11,
          12,
          13,
          14,
          15,
          16,
          17,
          18,
          19,
          20,
          21,
          22,
          23,
          24,
          25,
          26,
          27,
          28,
          29,
          30,
          31,
          32,
          33,
          34,
          35,
          36,
          37,
          38,
          39,
          40,
          41,
          42,
          43,
          44,
          45,
          46,
          47,
          48,
          49,
          50,
          51,
          52,
          53,
          54,
          55,
          56,
          57,
          58,
          59,
          60,
          61,
          62,
          63,
          64,
          65,
          66,
          67,
          68,
          69,
          70,
          71,
          72,
          73,
          74,
          75,
          76,
          77,
          78,
          79,
          80,
          81,
          82,
          83,
          84,
          85,
          86,
          87,
          88,
          89,
          90
         ],
         "xaxis": "x2",
         "y": [
          0.20517145097255707,
          0.3622821867465973,
          0.45390668511390686,
          0.5188307762145996,
          0.5657672882080078,
          0.595278263092041,
          0.6312535405158997,
          0.6509274840354919,
          0.6675098538398743,
          0.6854974627494812,
          0.7003934979438782,
          0.7166947722434998,
          0.7273749113082886,
          0.7369308471679688,
          0.7478920817375183,
          0.7543563842773438,
          0.7622259855270386,
          0.7745924592018127,
          0.7948285341262817,
          0.8057897686958313,
          0.7953906655311584,
          0.8060708045959473,
          0.8209668397903442,
          0.8161888718605042,
          0.8237773776054382,
          0.8282743096351624,
          0.8327712416648865,
          0.8434513807296753,
          0.8392355442047119,
          0.8600337505340576,
          0.8454187512397766,
          0.864249587059021,
          0.8482293486595154,
          0.8620011210441589,
          0.8656548857688904,
          0.8749297261238098,
          0.8698707222938538,
          0.8738055229187012,
          0.8766160607337952,
          0.8926362991333008,
          0.8858909606933594,
          0.8864530920982361,
          0.8926362991333008,
          0.8892636299133301,
          0.8968521356582642,
          0.8982574343681335,
          0.884766697883606,
          0.9030354022979736,
          0.8917931318283081,
          0.9055649042129517,
          0.8906689286231995,
          0.904159665107727,
          0.9013490676879883,
          0.9100618362426758,
          0.9131534695625305,
          0.9089376330375671,
          0.907251238822937,
          0.9137155413627625,
          0.9215851426124573,
          0.9198988080024719,
          0.9139966368675232,
          0.9165261387825012,
          0.9184935092926025,
          0.9235525727272034,
          0.9173693060874939,
          0.9283305406570435,
          0.92242830991745,
          0.9210230708122253,
          0.9328274130821228,
          0.9325463771820068,
          0.9359190464019775,
          0.937043309211731,
          0.9297357797622681,
          0.9311410784721375,
          0.9353569149971008,
          0.9392917156219482,
          0.9362001419067383,
          0.9319842457771301,
          0.9373243451118469,
          0.9376053810119629,
          0.9364811778068542,
          0.9437886476516724,
          0.9378864765167236,
          0.9359190464019775,
          0.9373243451118469,
          0.9412591457366943,
          0.9505339860916138,
          0.944631814956665,
          0.9474424123764038,
          0.9471613168716431,
          0.9465991854667664
         ],
         "yaxis": "y2"
        },
        {
         "hovertemplate": "variable=val_accuracy<br>index=%{x}<br>value=%{y}<extra></extra>",
         "legendgroup": "val_accuracy",
         "line": {
          "color": "#636efa",
          "dash": "solid"
         },
         "marker": {
          "symbol": "circle"
         },
         "mode": "lines",
         "name": "val_accuracy",
         "orientation": "v",
         "showlegend": true,
         "type": "scatter",
         "x": [
          0,
          1,
          2,
          3,
          4,
          5,
          6,
          7,
          8,
          9,
          10,
          11,
          12,
          13,
          14,
          15,
          16,
          17,
          18,
          19,
          20,
          21,
          22,
          23,
          24,
          25,
          26,
          27,
          28,
          29,
          30,
          31,
          32,
          33,
          34,
          35,
          36,
          37,
          38,
          39,
          40,
          41,
          42,
          43,
          44,
          45,
          46,
          47,
          48,
          49,
          50,
          51,
          52,
          53,
          54,
          55,
          56,
          57,
          58,
          59,
          60,
          61,
          62,
          63,
          64,
          65,
          66,
          67,
          68,
          69,
          70,
          71,
          72,
          73,
          74,
          75,
          76,
          77,
          78,
          79,
          80,
          81,
          82,
          83,
          84,
          85,
          86,
          87,
          88,
          89,
          90
         ],
         "xaxis": "x2",
         "y": [
          0.04269662871956825,
          0.040449436753988266,
          0.06067415699362755,
          0.14606741070747375,
          0.137078657746315,
          0.2606741487979889,
          0.48988765478134155,
          0.5011236071586609,
          0.6741573214530945,
          0.6269662976264954,
          0.5865168571472168,
          0.5977528095245361,
          0.6674157381057739,
          0.6674157381057739,
          0.7617977261543274,
          0.6764044761657715,
          0.7280898690223694,
          0.7775281071662903,
          0.7640449404716492,
          0.7213482856750488,
          0.7707865238189697,
          0.6966292262077332,
          0.748314619064331,
          0.6584269404411316,
          0.748314619064331,
          0.7707865238189697,
          0.8247190713882446,
          0.7977527976036072,
          0.7258427143096924,
          0.8269662857055664,
          0.7752808928489685,
          0.7415730357170105,
          0.8112359642982483,
          0.8449438214302063,
          0.7573033571243286,
          0.8247190713882446,
          0.7595505714416504,
          0.7977527976036072,
          0.8247190713882446,
          0.7191011309623718,
          0.8134831190109253,
          0.8247190713882446,
          0.8157303333282471,
          0.8157303333282471,
          0.7887640595436096,
          0.7730336785316467,
          0.7617977261543274,
          0.8382022380828857,
          0.8292135000228882,
          0.7977527976036072,
          0.8314606547355652,
          0.7955056428909302,
          0.8157303333282471,
          0.8719100952148438,
          0.6966292262077332,
          0.8359550833702087,
          0.8089887499809265,
          0.8719100952148438,
          0.8741573095321655,
          0.8449438214302063,
          0.8786516785621643,
          0.766292154788971,
          0.8449438214302063,
          0.8179775476455688,
          0.8471910357475281,
          0.8764045238494873,
          0.8292135000228882,
          0.8471910357475281,
          0.8179775476455688,
          0.8494381904602051,
          0.8629213571548462,
          0.8539325594902039,
          0.7707865238189697,
          0.8764045238494873,
          0.7887640595436096,
          0.8269662857055664,
          0.8089887499809265,
          0.8382022380828857,
          0.8651685118675232,
          0.8764045238494873,
          0.833707869052887,
          0.8314606547355652,
          0.8696629405021667,
          0.8539325594902039,
          0.8314606547355652,
          0.8786516785621643,
          0.8786516785621643,
          0.8269662857055664,
          0.8269662857055664,
          0.8314606547355652,
          0.8606741428375244
         ],
         "yaxis": "y2"
        }
       ],
       "layout": {
        "annotations": [
         {
          "font": {
           "size": 16
          },
          "showarrow": false,
          "text": "Loss",
          "x": 0.225,
          "xanchor": "center",
          "xref": "paper",
          "y": 1,
          "yanchor": "bottom",
          "yref": "paper"
         },
         {
          "font": {
           "size": 16
          },
          "showarrow": false,
          "text": "Accuracy",
          "x": 0.775,
          "xanchor": "center",
          "xref": "paper",
          "y": 1,
          "yanchor": "bottom",
          "yref": "paper"
         }
        ],
        "autosize": true,
        "template": {
         "data": {
          "bar": [
           {
            "error_x": {
             "color": "#2a3f5f"
            },
            "error_y": {
             "color": "#2a3f5f"
            },
            "marker": {
             "line": {
              "color": "#E5ECF6",
              "width": 0.5
             },
             "pattern": {
              "fillmode": "overlay",
              "size": 10,
              "solidity": 0.2
             }
            },
            "type": "bar"
           }
          ],
          "barpolar": [
           {
            "marker": {
             "line": {
              "color": "#E5ECF6",
              "width": 0.5
             },
             "pattern": {
              "fillmode": "overlay",
              "size": 10,
              "solidity": 0.2
             }
            },
            "type": "barpolar"
           }
          ],
          "carpet": [
           {
            "aaxis": {
             "endlinecolor": "#2a3f5f",
             "gridcolor": "white",
             "linecolor": "white",
             "minorgridcolor": "white",
             "startlinecolor": "#2a3f5f"
            },
            "baxis": {
             "endlinecolor": "#2a3f5f",
             "gridcolor": "white",
             "linecolor": "white",
             "minorgridcolor": "white",
             "startlinecolor": "#2a3f5f"
            },
            "type": "carpet"
           }
          ],
          "choropleth": [
           {
            "colorbar": {
             "outlinewidth": 0,
             "ticks": ""
            },
            "type": "choropleth"
           }
          ],
          "contour": [
           {
            "colorbar": {
             "outlinewidth": 0,
             "ticks": ""
            },
            "colorscale": [
             [
              0,
              "#0d0887"
             ],
             [
              0.1111111111111111,
              "#46039f"
             ],
             [
              0.2222222222222222,
              "#7201a8"
             ],
             [
              0.3333333333333333,
              "#9c179e"
             ],
             [
              0.4444444444444444,
              "#bd3786"
             ],
             [
              0.5555555555555556,
              "#d8576b"
             ],
             [
              0.6666666666666666,
              "#ed7953"
             ],
             [
              0.7777777777777778,
              "#fb9f3a"
             ],
             [
              0.8888888888888888,
              "#fdca26"
             ],
             [
              1,
              "#f0f921"
             ]
            ],
            "type": "contour"
           }
          ],
          "contourcarpet": [
           {
            "colorbar": {
             "outlinewidth": 0,
             "ticks": ""
            },
            "type": "contourcarpet"
           }
          ],
          "heatmap": [
           {
            "colorbar": {
             "outlinewidth": 0,
             "ticks": ""
            },
            "colorscale": [
             [
              0,
              "#0d0887"
             ],
             [
              0.1111111111111111,
              "#46039f"
             ],
             [
              0.2222222222222222,
              "#7201a8"
             ],
             [
              0.3333333333333333,
              "#9c179e"
             ],
             [
              0.4444444444444444,
              "#bd3786"
             ],
             [
              0.5555555555555556,
              "#d8576b"
             ],
             [
              0.6666666666666666,
              "#ed7953"
             ],
             [
              0.7777777777777778,
              "#fb9f3a"
             ],
             [
              0.8888888888888888,
              "#fdca26"
             ],
             [
              1,
              "#f0f921"
             ]
            ],
            "type": "heatmap"
           }
          ],
          "heatmapgl": [
           {
            "colorbar": {
             "outlinewidth": 0,
             "ticks": ""
            },
            "colorscale": [
             [
              0,
              "#0d0887"
             ],
             [
              0.1111111111111111,
              "#46039f"
             ],
             [
              0.2222222222222222,
              "#7201a8"
             ],
             [
              0.3333333333333333,
              "#9c179e"
             ],
             [
              0.4444444444444444,
              "#bd3786"
             ],
             [
              0.5555555555555556,
              "#d8576b"
             ],
             [
              0.6666666666666666,
              "#ed7953"
             ],
             [
              0.7777777777777778,
              "#fb9f3a"
             ],
             [
              0.8888888888888888,
              "#fdca26"
             ],
             [
              1,
              "#f0f921"
             ]
            ],
            "type": "heatmapgl"
           }
          ],
          "histogram": [
           {
            "marker": {
             "pattern": {
              "fillmode": "overlay",
              "size": 10,
              "solidity": 0.2
             }
            },
            "type": "histogram"
           }
          ],
          "histogram2d": [
           {
            "colorbar": {
             "outlinewidth": 0,
             "ticks": ""
            },
            "colorscale": [
             [
              0,
              "#0d0887"
             ],
             [
              0.1111111111111111,
              "#46039f"
             ],
             [
              0.2222222222222222,
              "#7201a8"
             ],
             [
              0.3333333333333333,
              "#9c179e"
             ],
             [
              0.4444444444444444,
              "#bd3786"
             ],
             [
              0.5555555555555556,
              "#d8576b"
             ],
             [
              0.6666666666666666,
              "#ed7953"
             ],
             [
              0.7777777777777778,
              "#fb9f3a"
             ],
             [
              0.8888888888888888,
              "#fdca26"
             ],
             [
              1,
              "#f0f921"
             ]
            ],
            "type": "histogram2d"
           }
          ],
          "histogram2dcontour": [
           {
            "colorbar": {
             "outlinewidth": 0,
             "ticks": ""
            },
            "colorscale": [
             [
              0,
              "#0d0887"
             ],
             [
              0.1111111111111111,
              "#46039f"
             ],
             [
              0.2222222222222222,
              "#7201a8"
             ],
             [
              0.3333333333333333,
              "#9c179e"
             ],
             [
              0.4444444444444444,
              "#bd3786"
             ],
             [
              0.5555555555555556,
              "#d8576b"
             ],
             [
              0.6666666666666666,
              "#ed7953"
             ],
             [
              0.7777777777777778,
              "#fb9f3a"
             ],
             [
              0.8888888888888888,
              "#fdca26"
             ],
             [
              1,
              "#f0f921"
             ]
            ],
            "type": "histogram2dcontour"
           }
          ],
          "mesh3d": [
           {
            "colorbar": {
             "outlinewidth": 0,
             "ticks": ""
            },
            "type": "mesh3d"
           }
          ],
          "parcoords": [
           {
            "line": {
             "colorbar": {
              "outlinewidth": 0,
              "ticks": ""
             }
            },
            "type": "parcoords"
           }
          ],
          "pie": [
           {
            "automargin": true,
            "type": "pie"
           }
          ],
          "scatter": [
           {
            "fillpattern": {
             "fillmode": "overlay",
             "size": 10,
             "solidity": 0.2
            },
            "type": "scatter"
           }
          ],
          "scatter3d": [
           {
            "line": {
             "colorbar": {
              "outlinewidth": 0,
              "ticks": ""
             }
            },
            "marker": {
             "colorbar": {
              "outlinewidth": 0,
              "ticks": ""
             }
            },
            "type": "scatter3d"
           }
          ],
          "scattercarpet": [
           {
            "marker": {
             "colorbar": {
              "outlinewidth": 0,
              "ticks": ""
             }
            },
            "type": "scattercarpet"
           }
          ],
          "scattergeo": [
           {
            "marker": {
             "colorbar": {
              "outlinewidth": 0,
              "ticks": ""
             }
            },
            "type": "scattergeo"
           }
          ],
          "scattergl": [
           {
            "marker": {
             "colorbar": {
              "outlinewidth": 0,
              "ticks": ""
             }
            },
            "type": "scattergl"
           }
          ],
          "scattermapbox": [
           {
            "marker": {
             "colorbar": {
              "outlinewidth": 0,
              "ticks": ""
             }
            },
            "type": "scattermapbox"
           }
          ],
          "scatterpolar": [
           {
            "marker": {
             "colorbar": {
              "outlinewidth": 0,
              "ticks": ""
             }
            },
            "type": "scatterpolar"
           }
          ],
          "scatterpolargl": [
           {
            "marker": {
             "colorbar": {
              "outlinewidth": 0,
              "ticks": ""
             }
            },
            "type": "scatterpolargl"
           }
          ],
          "scatterternary": [
           {
            "marker": {
             "colorbar": {
              "outlinewidth": 0,
              "ticks": ""
             }
            },
            "type": "scatterternary"
           }
          ],
          "surface": [
           {
            "colorbar": {
             "outlinewidth": 0,
             "ticks": ""
            },
            "colorscale": [
             [
              0,
              "#0d0887"
             ],
             [
              0.1111111111111111,
              "#46039f"
             ],
             [
              0.2222222222222222,
              "#7201a8"
             ],
             [
              0.3333333333333333,
              "#9c179e"
             ],
             [
              0.4444444444444444,
              "#bd3786"
             ],
             [
              0.5555555555555556,
              "#d8576b"
             ],
             [
              0.6666666666666666,
              "#ed7953"
             ],
             [
              0.7777777777777778,
              "#fb9f3a"
             ],
             [
              0.8888888888888888,
              "#fdca26"
             ],
             [
              1,
              "#f0f921"
             ]
            ],
            "type": "surface"
           }
          ],
          "table": [
           {
            "cells": {
             "fill": {
              "color": "#EBF0F8"
             },
             "line": {
              "color": "white"
             }
            },
            "header": {
             "fill": {
              "color": "#C8D4E3"
             },
             "line": {
              "color": "white"
             }
            },
            "type": "table"
           }
          ]
         },
         "layout": {
          "annotationdefaults": {
           "arrowcolor": "#2a3f5f",
           "arrowhead": 0,
           "arrowwidth": 1
          },
          "autotypenumbers": "strict",
          "coloraxis": {
           "colorbar": {
            "outlinewidth": 0,
            "ticks": ""
           }
          },
          "colorscale": {
           "diverging": [
            [
             0,
             "#8e0152"
            ],
            [
             0.1,
             "#c51b7d"
            ],
            [
             0.2,
             "#de77ae"
            ],
            [
             0.3,
             "#f1b6da"
            ],
            [
             0.4,
             "#fde0ef"
            ],
            [
             0.5,
             "#f7f7f7"
            ],
            [
             0.6,
             "#e6f5d0"
            ],
            [
             0.7,
             "#b8e186"
            ],
            [
             0.8,
             "#7fbc41"
            ],
            [
             0.9,
             "#4d9221"
            ],
            [
             1,
             "#276419"
            ]
           ],
           "sequential": [
            [
             0,
             "#0d0887"
            ],
            [
             0.1111111111111111,
             "#46039f"
            ],
            [
             0.2222222222222222,
             "#7201a8"
            ],
            [
             0.3333333333333333,
             "#9c179e"
            ],
            [
             0.4444444444444444,
             "#bd3786"
            ],
            [
             0.5555555555555556,
             "#d8576b"
            ],
            [
             0.6666666666666666,
             "#ed7953"
            ],
            [
             0.7777777777777778,
             "#fb9f3a"
            ],
            [
             0.8888888888888888,
             "#fdca26"
            ],
            [
             1,
             "#f0f921"
            ]
           ],
           "sequentialminus": [
            [
             0,
             "#0d0887"
            ],
            [
             0.1111111111111111,
             "#46039f"
            ],
            [
             0.2222222222222222,
             "#7201a8"
            ],
            [
             0.3333333333333333,
             "#9c179e"
            ],
            [
             0.4444444444444444,
             "#bd3786"
            ],
            [
             0.5555555555555556,
             "#d8576b"
            ],
            [
             0.6666666666666666,
             "#ed7953"
            ],
            [
             0.7777777777777778,
             "#fb9f3a"
            ],
            [
             0.8888888888888888,
             "#fdca26"
            ],
            [
             1,
             "#f0f921"
            ]
           ]
          },
          "colorway": [
           "#636efa",
           "#EF553B",
           "#00cc96",
           "#ab63fa",
           "#FFA15A",
           "#19d3f3",
           "#FF6692",
           "#B6E880",
           "#FF97FF",
           "#FECB52"
          ],
          "font": {
           "color": "#2a3f5f"
          },
          "geo": {
           "bgcolor": "white",
           "lakecolor": "white",
           "landcolor": "#E5ECF6",
           "showlakes": true,
           "showland": true,
           "subunitcolor": "white"
          },
          "hoverlabel": {
           "align": "left"
          },
          "hovermode": "closest",
          "mapbox": {
           "style": "light"
          },
          "paper_bgcolor": "white",
          "plot_bgcolor": "#E5ECF6",
          "polar": {
           "angularaxis": {
            "gridcolor": "white",
            "linecolor": "white",
            "ticks": ""
           },
           "bgcolor": "#E5ECF6",
           "radialaxis": {
            "gridcolor": "white",
            "linecolor": "white",
            "ticks": ""
           }
          },
          "scene": {
           "xaxis": {
            "backgroundcolor": "#E5ECF6",
            "gridcolor": "white",
            "gridwidth": 2,
            "linecolor": "white",
            "showbackground": true,
            "ticks": "",
            "zerolinecolor": "white"
           },
           "yaxis": {
            "backgroundcolor": "#E5ECF6",
            "gridcolor": "white",
            "gridwidth": 2,
            "linecolor": "white",
            "showbackground": true,
            "ticks": "",
            "zerolinecolor": "white"
           },
           "zaxis": {
            "backgroundcolor": "#E5ECF6",
            "gridcolor": "white",
            "gridwidth": 2,
            "linecolor": "white",
            "showbackground": true,
            "ticks": "",
            "zerolinecolor": "white"
           }
          },
          "shapedefaults": {
           "line": {
            "color": "#2a3f5f"
           }
          },
          "ternary": {
           "aaxis": {
            "gridcolor": "white",
            "linecolor": "white",
            "ticks": ""
           },
           "baxis": {
            "gridcolor": "white",
            "linecolor": "white",
            "ticks": ""
           },
           "bgcolor": "#E5ECF6",
           "caxis": {
            "gridcolor": "white",
            "linecolor": "white",
            "ticks": ""
           }
          },
          "title": {
           "x": 0.05
          },
          "xaxis": {
           "automargin": true,
           "gridcolor": "white",
           "linecolor": "white",
           "ticks": "",
           "title": {
            "standoff": 15
           },
           "zerolinecolor": "white",
           "zerolinewidth": 2
          },
          "yaxis": {
           "automargin": true,
           "gridcolor": "white",
           "linecolor": "white",
           "ticks": "",
           "title": {
            "standoff": 15
           },
           "zerolinecolor": "white",
           "zerolinewidth": 2
          }
         }
        },
        "xaxis": {
         "anchor": "y",
         "autorange": true,
         "domain": [
          0,
          0.45
         ],
         "range": [
          -5.9091239681442955,
          95.9091239681443
         ],
         "type": "linear"
        },
        "xaxis2": {
         "anchor": "y2",
         "autorange": true,
         "domain": [
          0.55,
          1
         ],
         "range": [
          -5.9091239681442955,
          95.9091239681443
         ],
         "type": "linear"
        },
        "yaxis": {
         "anchor": "x",
         "autorange": true,
         "domain": [
          0,
          1
         ],
         "range": [
          -0.4204161053668999,
          9.257866620420215
         ],
         "type": "linear"
        },
        "yaxis2": {
         "anchor": "x2",
         "autorange": true,
         "domain": [
          0,
          1
         ],
         "range": [
          -0.010617431745918574,
          1.0107199382522183
         ],
         "type": "linear"
        }
       }
      },
      "image/png": "[encoded data removed]",
      "text/html": [
       "<div>                            <div id=\"e2c908d1-e87e-45bf-a4c1-24bdf06099c7\" class=\"plotly-graph-div\" style=\"height:600px; width:100%;\"></div>            <script type=\"text/javascript\">                require([\"plotly\"], function(Plotly) {                    window.PLOTLYENV=window.PLOTLYENV || {};                                    if (document.getElementById(\"e2c908d1-e87e-45bf-a4c1-24bdf06099c7\")) {                    Plotly.newPlot(                        \"e2c908d1-e87e-45bf-a4c1-24bdf06099c7\",                        [{\"hovertemplate\":\"variable=loss<br>index=%{x}<br>value=%{y}<extra></extra>\",\"legendgroup\":\"loss\",\"marker\":{\"color\":\"#636efa\",\"symbol\":\"circle\"},\"mode\":\"markers\",\"name\":\"loss\",\"orientation\":\"v\",\"showlegend\":true,\"x\":[0,1,2,3,4,5,6,7,8,9,10,11,12,13,14,15,16,17,18,19,20,21,22,23,24,25,26,27,28,29,30,31,32,33,34,35,36,37,38,39,40,41,42,43,44,45,46,47,48,49,50,51,52,53,54,55,56,57,58,59,60,61,62,63,64,65,66,67,68,69,70,71,72,73,74,75,76,77,78,79,80,81,82,83,84,85,86,87,88,89,90],\"xaxis\":\"x\",\"y\":[3.613818645477295,2.3611536026000977,1.8942837715148926,1.6006652116775513,1.4437363147735596,1.3258557319641113,1.2215890884399414,1.1204736232757568,1.0822430849075317,1.0237677097320557,0.9687564373016357,0.9022303819656372,0.8538801670074463,0.8334038853645325,0.79387366771698,0.7885651588439941,0.7327999472618103,0.7154936790466309,0.649152398109436,0.6149898767471313,0.642760694026947,0.622815728187561,0.571156919002533,0.5578148365020752,0.5536676645278931,0.5206953883171082,0.5299286842346191,0.4845851957798004,0.4916958808898926,0.4412631690502167,0.47795194387435913,0.42297881841659546,0.44662413001060486,0.4216371774673462,0.4237823784351349,0.38525155186653137,0.40037405490875244,0.39555418491363525,0.38079819083213806,0.3273610472679138,0.34530583024024963,0.34905365109443665,0.3319063186645508,0.33850011229515076,0.31477728486061096,0.31778886914253235,0.34538188576698303,0.29425984621047974,0.3073623776435852,0.2809411883354187,0.3323041796684265,0.2928611636161804,0.292399525642395,0.26504701375961304,0.2644166648387909,0.27422580122947693,0.2850247621536255,0.2561858296394348,0.2294844537973404,0.23517607152462006,0.24233825504779816,0.26272547245025635,0.24305325746536255,0.2321595549583435,0.24523037672042847,0.2032690793275833,0.2496272176504135,0.2306293547153473,0.20788703858852386,0.21548700332641602,0.18283827602863312,0.2027732878923416,0.20854483544826508,0.21160340309143066,0.18021529912948608,0.18159355223178864,0.1828661859035492,0.2123233675956726,0.172821506857872,0.18031978607177734,0.1708132028579712,0.16462372243404388,0.17487765848636627,0.19783568382263184,0.18663029372692108,0.1718393713235855,0.1591346561908722,0.171908900141716,0.16375403106212616,0.16662146151065826,0.14991126954555511],\"yaxis\":\"y\",\"type\":\"scatter\"},{\"hovertemplate\":\"variable=val_loss<br>index=%{x}<br>value=%{y}<extra></extra>\",\"legendgroup\":\"val_loss\",\"line\":{\"color\":\"#636efa\",\"dash\":\"solid\"},\"marker\":{\"symbol\":\"circle\"},\"mode\":\"lines\",\"name\":\"val_loss\",\"orientation\":\"v\",\"showlegend\":true,\"x\":[0,1,2,3,4,5,6,7,8,9,10,11,12,13,14,15,16,17,18,19,20,21,22,23,24,25,26,27,28,29,30,31,32,33,34,35,36,37,38,39,40,41,42,43,44,45,46,47,48,49,50,51,52,53,54,55,56,57,58,59,60,61,62,63,64,65,66,67,68,69,70,71,72,73,74,75,76,77,78,79,80,81,82,83,84,85,86,87,88,89,90],\"xaxis\":\"x\",\"y\":[4.960005283355713,8.77395248413086,8.168281555175781,7.041496276855469,4.875459671020508,3.4936962127685547,1.6532148122787476,1.7588316202163696,1.105757713317871,1.334468126296997,1.4844295978546143,1.5156933069229126,1.1387373208999634,1.172263741493225,0.7894812226295471,1.4151197671890259,0.9418463110923767,0.7806912064552307,0.8362389206886292,0.9925529360771179,0.8006073832511902,1.2256982326507568,0.8753201365470886,1.387662649154663,0.884918212890625,0.8333709836006165,0.7227330803871155,0.8947732448577881,0.9658880233764648,0.7246356010437012,0.8856659531593323,1.0813230276107788,0.7770770192146301,0.5653882026672363,0.941582977771759,0.6463810801506042,0.9110817313194275,0.7950363755226135,0.6971459984779358,1.2022268772125244,0.7670606374740601,0.6674904823303223,0.7520092725753784,0.7112064957618713,0.7942800521850586,0.9351063370704651,0.9102823734283447,0.7127372622489929,0.6615341901779175,0.8694469928741455,0.7119961977005005,0.785750150680542,0.811140775680542,0.5280827283859253,1.5609945058822632,0.7428579330444336,0.8747052550315857,0.5941963195800781,0.5809284448623657,0.7073845267295837,0.5099806785583496,1.0485429763793945,0.6146036386489868,0.740163266658783,0.6504985690116882,0.6009070873260498,0.8449253439903259,0.7287055253982544,0.8189359903335571,0.7927595376968384,0.6065223217010498,0.6485562324523926,1.0229300260543823,0.6173812747001648,0.9478474259376526,0.8463582992553711,0.8439049124717712,0.7894349694252014,0.6116098761558533,0.7312846779823303,0.7210477590560913,0.9563161730766296,0.7291033864021301,0.8055734634399414,0.8509978652000427,0.620398998260498,0.6059052348136902,0.8507930636405945,0.7714124321937561,0.9469868540763855,0.7792457938194275],\"yaxis\":\"y\",\"type\":\"scatter\"},{\"hovertemplate\":\"variable=accuracy<br>index=%{x}<br>value=%{y}<extra></extra>\",\"legendgroup\":\"accuracy\",\"marker\":{\"color\":\"#636efa\",\"symbol\":\"circle\"},\"mode\":\"markers\",\"name\":\"accuracy\",\"orientation\":\"v\",\"showlegend\":true,\"x\":[0,1,2,3,4,5,6,7,8,9,10,11,12,13,14,15,16,17,18,19,20,21,22,23,24,25,26,27,28,29,30,31,32,33,34,35,36,37,38,39,40,41,42,43,44,45,46,47,48,49,50,51,52,53,54,55,56,57,58,59,60,61,62,63,64,65,66,67,68,69,70,71,72,73,74,75,76,77,78,79,80,81,82,83,84,85,86,87,88,89,90],\"xaxis\":\"x2\",\"y\":[0.20517145097255707,0.3622821867465973,0.45390668511390686,0.5188307762145996,0.5657672882080078,0.595278263092041,0.6312535405158997,0.6509274840354919,0.6675098538398743,0.6854974627494812,0.7003934979438782,0.7166947722434998,0.7273749113082886,0.7369308471679688,0.7478920817375183,0.7543563842773438,0.7622259855270386,0.7745924592018127,0.7948285341262817,0.8057897686958313,0.7953906655311584,0.8060708045959473,0.8209668397903442,0.8161888718605042,0.8237773776054382,0.8282743096351624,0.8327712416648865,0.8434513807296753,0.8392355442047119,0.8600337505340576,0.8454187512397766,0.864249587059021,0.8482293486595154,0.8620011210441589,0.8656548857688904,0.8749297261238098,0.8698707222938538,0.8738055229187012,0.8766160607337952,0.8926362991333008,0.8858909606933594,0.8864530920982361,0.8926362991333008,0.8892636299133301,0.8968521356582642,0.8982574343681335,0.884766697883606,0.9030354022979736,0.8917931318283081,0.9055649042129517,0.8906689286231995,0.904159665107727,0.9013490676879883,0.9100618362426758,0.9131534695625305,0.9089376330375671,0.907251238822937,0.9137155413627625,0.9215851426124573,0.9198988080024719,0.9139966368675232,0.9165261387825012,0.9184935092926025,0.9235525727272034,0.9173693060874939,0.9283305406570435,0.92242830991745,0.9210230708122253,0.9328274130821228,0.9325463771820068,0.9359190464019775,0.937043309211731,0.9297357797622681,0.9311410784721375,0.9353569149971008,0.9392917156219482,0.9362001419067383,0.9319842457771301,0.9373243451118469,0.9376053810119629,0.9364811778068542,0.9437886476516724,0.9378864765167236,0.9359190464019775,0.9373243451118469,0.9412591457366943,0.9505339860916138,0.944631814956665,0.9474424123764038,0.9471613168716431,0.9465991854667664],\"yaxis\":\"y2\",\"type\":\"scatter\"},{\"hovertemplate\":\"variable=val_accuracy<br>index=%{x}<br>value=%{y}<extra></extra>\",\"legendgroup\":\"val_accuracy\",\"line\":{\"color\":\"#636efa\",\"dash\":\"solid\"},\"marker\":{\"symbol\":\"circle\"},\"mode\":\"lines\",\"name\":\"val_accuracy\",\"orientation\":\"v\",\"showlegend\":true,\"x\":[0,1,2,3,4,5,6,7,8,9,10,11,12,13,14,15,16,17,18,19,20,21,22,23,24,25,26,27,28,29,30,31,32,33,34,35,36,37,38,39,40,41,42,43,44,45,46,47,48,49,50,51,52,53,54,55,56,57,58,59,60,61,62,63,64,65,66,67,68,69,70,71,72,73,74,75,76,77,78,79,80,81,82,83,84,85,86,87,88,89,90],\"xaxis\":\"x2\",\"y\":[0.04269662871956825,0.040449436753988266,0.06067415699362755,0.14606741070747375,0.137078657746315,0.2606741487979889,0.48988765478134155,0.5011236071586609,0.6741573214530945,0.6269662976264954,0.5865168571472168,0.5977528095245361,0.6674157381057739,0.6674157381057739,0.7617977261543274,0.6764044761657715,0.7280898690223694,0.7775281071662903,0.7640449404716492,0.7213482856750488,0.7707865238189697,0.6966292262077332,0.748314619064331,0.6584269404411316,0.748314619064331,0.7707865238189697,0.8247190713882446,0.7977527976036072,0.7258427143096924,0.8269662857055664,0.7752808928489685,0.7415730357170105,0.8112359642982483,0.8449438214302063,0.7573033571243286,0.8247190713882446,0.7595505714416504,0.7977527976036072,0.8247190713882446,0.7191011309623718,0.8134831190109253,0.8247190713882446,0.8157303333282471,0.8157303333282471,0.7887640595436096,0.7730336785316467,0.7617977261543274,0.8382022380828857,0.8292135000228882,0.7977527976036072,0.8314606547355652,0.7955056428909302,0.8157303333282471,0.8719100952148438,0.6966292262077332,0.8359550833702087,0.8089887499809265,0.8719100952148438,0.8741573095321655,0.8449438214302063,0.8786516785621643,0.766292154788971,0.8449438214302063,0.8179775476455688,0.8471910357475281,0.8764045238494873,0.8292135000228882,0.8471910357475281,0.8179775476455688,0.8494381904602051,0.8629213571548462,0.8539325594902039,0.7707865238189697,0.8764045238494873,0.7887640595436096,0.8269662857055664,0.8089887499809265,0.8382022380828857,0.8651685118675232,0.8764045238494873,0.833707869052887,0.8314606547355652,0.8696629405021667,0.8539325594902039,0.8314606547355652,0.8786516785621643,0.8786516785621643,0.8269662857055664,0.8269662857055664,0.8314606547355652,0.8606741428375244],\"yaxis\":\"y2\",\"type\":\"scatter\"}],                        {\"template\":{\"data\":{\"histogram2dcontour\":[{\"type\":\"histogram2dcontour\",\"colorbar\":{\"outlinewidth\":0,\"ticks\":\"\"},\"colorscale\":[[0.0,\"#0d0887\"],[0.1111111111111111,\"#46039f\"],[0.2222222222222222,\"#7201a8\"],[0.3333333333333333,\"#9c179e\"],[0.4444444444444444,\"#bd3786\"],[0.5555555555555556,\"#d8576b\"],[0.6666666666666666,\"#ed7953\"],[0.7777777777777778,\"#fb9f3a\"],[0.8888888888888888,\"#fdca26\"],[1.0,\"#f0f921\"]]}],\"choropleth\":[{\"type\":\"choropleth\",\"colorbar\":{\"outlinewidth\":0,\"ticks\":\"\"}}],\"histogram2d\":[{\"type\":\"histogram2d\",\"colorbar\":{\"outlinewidth\":0,\"ticks\":\"\"},\"colorscale\":[[0.0,\"#0d0887\"],[0.1111111111111111,\"#46039f\"],[0.2222222222222222,\"#7201a8\"],[0.3333333333333333,\"#9c179e\"],[0.4444444444444444,\"#bd3786\"],[0.5555555555555556,\"#d8576b\"],[0.6666666666666666,\"#ed7953\"],[0.7777777777777778,\"#fb9f3a\"],[0.8888888888888888,\"#fdca26\"],[1.0,\"#f0f921\"]]}],\"heatmap\":[{\"type\":\"heatmap\",\"colorbar\":{\"outlinewidth\":0,\"ticks\":\"\"},\"colorscale\":[[0.0,\"#0d0887\"],[0.1111111111111111,\"#46039f\"],[0.2222222222222222,\"#7201a8\"],[0.3333333333333333,\"#9c179e\"],[0.4444444444444444,\"#bd3786\"],[0.5555555555555556,\"#d8576b\"],[0.6666666666666666,\"#ed7953\"],[0.7777777777777778,\"#fb9f3a\"],[0.8888888888888888,\"#fdca26\"],[1.0,\"#f0f921\"]]}],\"heatmapgl\":[{\"type\":\"heatmapgl\",\"colorbar\":{\"outlinewidth\":0,\"ticks\":\"\"},\"colorscale\":[[0.0,\"#0d0887\"],[0.1111111111111111,\"#46039f\"],[0.2222222222222222,\"#7201a8\"],[0.3333333333333333,\"#9c179e\"],[0.4444444444444444,\"#bd3786\"],[0.5555555555555556,\"#d8576b\"],[0.6666666666666666,\"#ed7953\"],[0.7777777777777778,\"#fb9f3a\"],[0.8888888888888888,\"#fdca26\"],[1.0,\"#f0f921\"]]}],\"contourcarpet\":[{\"type\":\"contourcarpet\",\"colorbar\":{\"outlinewidth\":0,\"ticks\":\"\"}}],\"contour\":[{\"type\":\"contour\",\"colorbar\":{\"outlinewidth\":0,\"ticks\":\"\"},\"colorscale\":[[0.0,\"#0d0887\"],[0.1111111111111111,\"#46039f\"],[0.2222222222222222,\"#7201a8\"],[0.3333333333333333,\"#9c179e\"],[0.4444444444444444,\"#bd3786\"],[0.5555555555555556,\"#d8576b\"],[0.6666666666666666,\"#ed7953\"],[0.7777777777777778,\"#fb9f3a\"],[0.8888888888888888,\"#fdca26\"],[1.0,\"#f0f921\"]]}],\"surface\":[{\"type\":\"surface\",\"colorbar\":{\"outlinewidth\":0,\"ticks\":\"\"},\"colorscale\":[[0.0,\"#0d0887\"],[0.1111111111111111,\"#46039f\"],[0.2222222222222222,\"#7201a8\"],[0.3333333333333333,\"#9c179e\"],[0.4444444444444444,\"#bd3786\"],[0.5555555555555556,\"#d8576b\"],[0.6666666666666666,\"#ed7953\"],[0.7777777777777778,\"#fb9f3a\"],[0.8888888888888888,\"#fdca26\"],[1.0,\"#f0f921\"]]}],\"mesh3d\":[{\"type\":\"mesh3d\",\"colorbar\":{\"outlinewidth\":0,\"ticks\":\"\"}}],\"scatter\":[{\"fillpattern\":{\"fillmode\":\"overlay\",\"size\":10,\"solidity\":0.2},\"type\":\"scatter\"}],\"parcoords\":[{\"type\":\"parcoords\",\"line\":{\"colorbar\":{\"outlinewidth\":0,\"ticks\":\"\"}}}],\"scatterpolargl\":[{\"type\":\"scatterpolargl\",\"marker\":{\"colorbar\":{\"outlinewidth\":0,\"ticks\":\"\"}}}],\"bar\":[{\"error_x\":{\"color\":\"#2a3f5f\"},\"error_y\":{\"color\":\"#2a3f5f\"},\"marker\":{\"line\":{\"color\":\"#E5ECF6\",\"width\":0.5},\"pattern\":{\"fillmode\":\"overlay\",\"size\":10,\"solidity\":0.2}},\"type\":\"bar\"}],\"scattergeo\":[{\"type\":\"scattergeo\",\"marker\":{\"colorbar\":{\"outlinewidth\":0,\"ticks\":\"\"}}}],\"scatterpolar\":[{\"type\":\"scatterpolar\",\"marker\":{\"colorbar\":{\"outlinewidth\":0,\"ticks\":\"\"}}}],\"histogram\":[{\"marker\":{\"pattern\":{\"fillmode\":\"overlay\",\"size\":10,\"solidity\":0.2}},\"type\":\"histogram\"}],\"scattergl\":[{\"type\":\"scattergl\",\"marker\":{\"colorbar\":{\"outlinewidth\":0,\"ticks\":\"\"}}}],\"scatter3d\":[{\"type\":\"scatter3d\",\"line\":{\"colorbar\":{\"outlinewidth\":0,\"ticks\":\"\"}},\"marker\":{\"colorbar\":{\"outlinewidth\":0,\"ticks\":\"\"}}}],\"scattermapbox\":[{\"type\":\"scattermapbox\",\"marker\":{\"colorbar\":{\"outlinewidth\":0,\"ticks\":\"\"}}}],\"scatterternary\":[{\"type\":\"scatterternary\",\"marker\":{\"colorbar\":{\"outlinewidth\":0,\"ticks\":\"\"}}}],\"scattercarpet\":[{\"type\":\"scattercarpet\",\"marker\":{\"colorbar\":{\"outlinewidth\":0,\"ticks\":\"\"}}}],\"carpet\":[{\"aaxis\":{\"endlinecolor\":\"#2a3f5f\",\"gridcolor\":\"white\",\"linecolor\":\"white\",\"minorgridcolor\":\"white\",\"startlinecolor\":\"#2a3f5f\"},\"baxis\":{\"endlinecolor\":\"#2a3f5f\",\"gridcolor\":\"white\",\"linecolor\":\"white\",\"minorgridcolor\":\"white\",\"startlinecolor\":\"#2a3f5f\"},\"type\":\"carpet\"}],\"table\":[{\"cells\":{\"fill\":{\"color\":\"#EBF0F8\"},\"line\":{\"color\":\"white\"}},\"header\":{\"fill\":{\"color\":\"#C8D4E3\"},\"line\":{\"color\":\"white\"}},\"type\":\"table\"}],\"barpolar\":[{\"marker\":{\"line\":{\"color\":\"#E5ECF6\",\"width\":0.5},\"pattern\":{\"fillmode\":\"overlay\",\"size\":10,\"solidity\":0.2}},\"type\":\"barpolar\"}],\"pie\":[{\"automargin\":true,\"type\":\"pie\"}]},\"layout\":{\"autotypenumbers\":\"strict\",\"colorway\":[\"#636efa\",\"#EF553B\",\"#00cc96\",\"#ab63fa\",\"#FFA15A\",\"#19d3f3\",\"#FF6692\",\"#B6E880\",\"#FF97FF\",\"#FECB52\"],\"font\":{\"color\":\"#2a3f5f\"},\"hovermode\":\"closest\",\"hoverlabel\":{\"align\":\"left\"},\"paper_bgcolor\":\"white\",\"plot_bgcolor\":\"#E5ECF6\",\"polar\":{\"bgcolor\":\"#E5ECF6\",\"angularaxis\":{\"gridcolor\":\"white\",\"linecolor\":\"white\",\"ticks\":\"\"},\"radialaxis\":{\"gridcolor\":\"white\",\"linecolor\":\"white\",\"ticks\":\"\"}},\"ternary\":{\"bgcolor\":\"#E5ECF6\",\"aaxis\":{\"gridcolor\":\"white\",\"linecolor\":\"white\",\"ticks\":\"\"},\"baxis\":{\"gridcolor\":\"white\",\"linecolor\":\"white\",\"ticks\":\"\"},\"caxis\":{\"gridcolor\":\"white\",\"linecolor\":\"white\",\"ticks\":\"\"}},\"coloraxis\":{\"colorbar\":{\"outlinewidth\":0,\"ticks\":\"\"}},\"colorscale\":{\"sequential\":[[0.0,\"#0d0887\"],[0.1111111111111111,\"#46039f\"],[0.2222222222222222,\"#7201a8\"],[0.3333333333333333,\"#9c179e\"],[0.4444444444444444,\"#bd3786\"],[0.5555555555555556,\"#d8576b\"],[0.6666666666666666,\"#ed7953\"],[0.7777777777777778,\"#fb9f3a\"],[0.8888888888888888,\"#fdca26\"],[1.0,\"#f0f921\"]],\"sequentialminus\":[[0.0,\"#0d0887\"],[0.1111111111111111,\"#46039f\"],[0.2222222222222222,\"#7201a8\"],[0.3333333333333333,\"#9c179e\"],[0.4444444444444444,\"#bd3786\"],[0.5555555555555556,\"#d8576b\"],[0.6666666666666666,\"#ed7953\"],[0.7777777777777778,\"#fb9f3a\"],[0.8888888888888888,\"#fdca26\"],[1.0,\"#f0f921\"]],\"diverging\":[[0,\"#8e0152\"],[0.1,\"#c51b7d\"],[0.2,\"#de77ae\"],[0.3,\"#f1b6da\"],[0.4,\"#fde0ef\"],[0.5,\"#f7f7f7\"],[0.6,\"#e6f5d0\"],[0.7,\"#b8e186\"],[0.8,\"#7fbc41\"],[0.9,\"#4d9221\"],[1,\"#276419\"]]},\"xaxis\":{\"gridcolor\":\"white\",\"linecolor\":\"white\",\"ticks\":\"\",\"title\":{\"standoff\":15},\"zerolinecolor\":\"white\",\"automargin\":true,\"zerolinewidth\":2},\"yaxis\":{\"gridcolor\":\"white\",\"linecolor\":\"white\",\"ticks\":\"\",\"title\":{\"standoff\":15},\"zerolinecolor\":\"white\",\"automargin\":true,\"zerolinewidth\":2},\"scene\":{\"xaxis\":{\"backgroundcolor\":\"#E5ECF6\",\"gridcolor\":\"white\",\"linecolor\":\"white\",\"showbackground\":true,\"ticks\":\"\",\"zerolinecolor\":\"white\",\"gridwidth\":2},\"yaxis\":{\"backgroundcolor\":\"#E5ECF6\",\"gridcolor\":\"white\",\"linecolor\":\"white\",\"showbackground\":true,\"ticks\":\"\",\"zerolinecolor\":\"white\",\"gridwidth\":2},\"zaxis\":{\"backgroundcolor\":\"#E5ECF6\",\"gridcolor\":\"white\",\"linecolor\":\"white\",\"showbackground\":true,\"ticks\":\"\",\"zerolinecolor\":\"white\",\"gridwidth\":2}},\"shapedefaults\":{\"line\":{\"color\":\"#2a3f5f\"}},\"annotationdefaults\":{\"arrowcolor\":\"#2a3f5f\",\"arrowhead\":0,\"arrowwidth\":1},\"geo\":{\"bgcolor\":\"white\",\"landcolor\":\"#E5ECF6\",\"subunitcolor\":\"white\",\"showland\":true,\"showlakes\":true,\"lakecolor\":\"white\"},\"title\":{\"x\":0.05},\"mapbox\":{\"style\":\"light\"}}},\"xaxis\":{\"anchor\":\"y\",\"domain\":[0.0,0.45]},\"yaxis\":{\"anchor\":\"x\",\"domain\":[0.0,1.0]},\"xaxis2\":{\"anchor\":\"y2\",\"domain\":[0.55,1.0]},\"yaxis2\":{\"anchor\":\"x2\",\"domain\":[0.0,1.0]},\"annotations\":[{\"font\":{\"size\":16},\"showarrow\":false,\"text\":\"Loss\",\"x\":0.225,\"xanchor\":\"center\",\"xref\":\"paper\",\"y\":1.0,\"yanchor\":\"bottom\",\"yref\":\"paper\"},{\"font\":{\"size\":16},\"showarrow\":false,\"text\":\"Accuracy\",\"x\":0.775,\"xanchor\":\"center\",\"xref\":\"paper\",\"y\":1.0,\"yanchor\":\"bottom\",\"yref\":\"paper\"}],\"height\":600},                        {\"responsive\": true}                    ).then(function(){\n",
       "                            \n",
       "var gd = document.getElementById('e2c908d1-e87e-45bf-a4c1-24bdf06099c7');\n",
       "var x = new MutationObserver(function (mutations, observer) {{\n",
       "        var display = window.getComputedStyle(gd).display;\n",
       "        if (!display || display === 'none') {{\n",
       "            console.log([gd, 'removed!']);\n",
       "            Plotly.purge(gd);\n",
       "            observer.disconnect();\n",
       "        }}\n",
       "}});\n",
       "\n",
       "// Listen for the removal of the full notebook cells\n",
       "var notebookContainer = gd.closest('#notebook-container');\n",
       "if (notebookContainer) {{\n",
       "    x.observe(notebookContainer, {childList: true});\n",
       "}}\n",
       "\n",
       "// Listen for the clearing of the current output cell\n",
       "var outputEl = gd.closest('.output');\n",
       "if (outputEl) {{\n",
       "    x.observe(outputEl, {childList: true});\n",
       "}}\n",
       "\n",
       "                        })                };                });            </script>        </div>"
      ]
     },
     "metadata": {},
     "output_type": "display_data"
    }
   ],
   "source": [
    "hist_df = pd.DataFrame(history.history)\n",
    "loss = px.scatter(hist_df['loss'])\n",
    "val_loss = px.line(hist_df['val_loss'])\n",
    "accuracy = px.scatter(hist_df['accuracy'])\n",
    "val_accuracy = px.line(hist_df['val_accuracy'])\n",
    "\n",
    "fig = make_subplots(cols=2, rows=1, subplot_titles=(\"Loss\", \"Accuracy\"))\n",
    "fig.add_trace(loss.data[0], col=1, row=1)\n",
    "fig.add_trace(val_loss.data[0], col=1, row=1)\n",
    "fig.add_trace(accuracy.data[0], col=2, row=1)\n",
    "fig.add_trace(val_accuracy.data[0], col=2, row=1)\n",
    "fig.update_layout(height=600)\n",
    "\n",
    "fig.show()"
   ]
  },
  {
   "cell_type": "code",
   "execution_count": 13,
   "id": "682f2e03-d14e-41d8-8a31-e71d72c5d325",
   "metadata": {
    "tags": []
   },
   "outputs": [
    {
     "name": "stdout",
     "output_type": "stream",
     "text": [
      "7/7 [==============================] - 0s 17ms/step - loss: 1.2924 - accuracy: 0.6985\n",
      "7/7 [==============================] - 0s 17ms/step - loss: 1.2169 - accuracy: 0.6495\n",
      "7/7 [==============================] - 0s 17ms/step - loss: 0.5668 - accuracy: 0.8333\n",
      "7/7 [==============================] - 1s 76ms/step - loss: 3.4098 - accuracy: 0.0172\n",
      "7/7 [==============================] - 0s 45ms/step - loss: 0.6018 - accuracy: 0.8382\n",
      "7/7 [==============================] - 0s 26ms/step - loss: 0.5723 - accuracy: 0.8529\n",
      "Model A: 69.85% of accuracy\n",
      "Model B: 64.95% of accuracy\n",
      "Model C: 83.33% of accuracy\n",
      "Model D: 1.72% of accuracy\n",
      "Model E: 83.82% of accuracy\n",
      "Model tuned: 85.29% of accuracy\n"
     ]
    }
   ],
   "source": [
    "model_A = load_model(\"saved_models/model_handcrafted_A.keras\")\n",
    "model_B = load_model(\"saved_models/model_handcrafted_B.keras\")\n",
    "model_C = load_model(\"saved_models/model_handcrafted_C.keras\")\n",
    "model_D = load_model(\"saved_models/model_handcrafted_D.keras\")\n",
    "model_E = load_model(\"saved_models/model_handcrafted_E.keras\")\n",
    "model_tuned = load_model(\"saved_models/model_tuned.keras\")\n",
    "\n",
    "_, model_A_acc = model_A.evaluate(test_dataset)\n",
    "_, model_B_acc = model_B.evaluate(test_dataset)\n",
    "_, model_C_acc = model_C.evaluate(test_dataset)\n",
    "_, model_D_acc = model_D.evaluate(test_dataset)\n",
    "_, model_E_acc = model_E.evaluate(test_dataset)\n",
    "_, model_tuned_acc = model_tuned.evaluate(test_dataset)\n",
    "\n",
    "print(\n",
    "    f\"Model A: {model_A_acc * 100:.2f}% of accuracy\\n\"\n",
    "    f\"Model B: {model_B_acc * 100:.2f}% of accuracy\\n\"\n",
    "    f\"Model C: {model_C_acc * 100:.2f}% of accuracy\\n\"\n",
    "    f\"Model D: {model_D_acc * 100:.2f}% of accuracy\\n\"\n",
    "    f\"Model E: {model_E_acc * 100:.2f}% of accuracy\\n\"\n",
    "    f\"Model tuned: {model_tuned_acc * 100:.2f}% of accuracy\"\n",
    "      )"
   ]
  }
 ],
 "metadata": {
  "kernelspec": {
   "display_name": "Python 3 (ipykernel)",
   "language": "python",
   "name": "python3"
  },
  "language_info": {
   "codemirror_mode": {
    "name": "ipython",
    "version": 3
   },
   "file_extension": ".py",
   "mimetype": "text/x-python",
   "name": "python",
   "nbconvert_exporter": "python",
   "pygments_lexer": "ipython3",
   "version": "3.10.10"
  }
 },
 "nbformat": 4,
 "nbformat_minor": 5
}
